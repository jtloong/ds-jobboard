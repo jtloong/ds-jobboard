{
 "cells": [
  {
   "cell_type": "code",
   "execution_count": 1,
   "metadata": {},
   "outputs": [],
   "source": [
    "from bs4 import BeautifulSoup\n",
    "import requests, re"
   ]
  },
  {
   "cell_type": "code",
   "execution_count": 2,
   "metadata": {},
   "outputs": [],
   "source": [
    "def getHTML(url):\n",
    "    r = requests.get(url)\n",
    "    data = r.text\n",
    "    return data"
   ]
  },
  {
   "cell_type": "code",
   "execution_count": 3,
   "metadata": {},
   "outputs": [],
   "source": [
    "url = 'https://www.kdnuggets.com/jobs/index.html'"
   ]
  },
  {
   "cell_type": "code",
   "execution_count": 7,
   "metadata": {},
   "outputs": [],
   "source": [
    "soup = BeautifulSoup(getHTML(url), 'lxml')"
   ]
  },
  {
   "cell_type": "code",
   "execution_count": 15,
   "metadata": {},
   "outputs": [],
   "source": [
    "def get_jobs(soup):\n",
    "    return soup.findAll(\"ul\", { \"class\" : \"three_ul\" })[0].findAll(\"li\")"
   ]
  },
  {
   "cell_type": "code",
   "execution_count": 16,
   "metadata": {},
   "outputs": [],
   "source": [
    "job_divs = get_jobs(soup)"
   ]
  },
  {
   "cell_type": "code",
   "execution_count": 19,
   "metadata": {},
   "outputs": [
    {
     "data": {
      "text/plain": [
       "<li>\n",
       "<b><a href=\"https://www.kdnuggets.com/jobs/18/07-19-compstak-data-analyst.html\">compstak: Jr Data Analyst</a></b> - Jul 19, 2018      <div style=\"margin-left: 12px; font-size: small;\">\n",
       "        Seeking talented full time data analysts to help us improve our data pipeline in order to ensure high quality and better scalability. This includes data extraction, preprocessing, augmentation, and verification projects.\n",
       "        <p class=\"tags\">Tags: <a href=\"https://www.kdnuggets.com/tag/compstak\" rel=\"tag\">compstak</a>, <a href=\"https://www.kdnuggets.com/tag/data-analyst\" rel=\"tag\">Data Analyst</a>, <a href=\"https://www.kdnuggets.com/tag/new-york\" rel=\"tag\">New York</a>, <a href=\"https://www.kdnuggets.com/tag/ny\" rel=\"tag\">NY</a></p>\n",
       "</div></li>"
      ]
     },
     "execution_count": 19,
     "metadata": {},
     "output_type": "execute_result"
    }
   ],
   "source": [
    "job_divs[0]"
   ]
  },
  {
   "cell_type": "code",
   "execution_count": 53,
   "metadata": {},
   "outputs": [],
   "source": [
    "def get_location(post_link):\n",
    "    soup = BeautifulSoup(getHTML(post_link), 'lxml')\n",
    "    location = soup.find('div', {'id' : 'post-'}).find('p').findAll('b')[1].contents[0]\n",
    "    location = location[location.find(':')+2:]\n",
    "    return location"
   ]
  },
  {
   "cell_type": "code",
   "execution_count": 54,
   "metadata": {},
   "outputs": [
    {
     "name": "stdout",
     "output_type": "stream",
     "text": [
      "New York, NY\n"
     ]
    }
   ],
   "source": [
    "print(get_location('https://www.kdnuggets.com/jobs/18/07-19-compstak-data-analyst.html'))"
   ]
  },
  {
   "cell_type": "code",
   "execution_count": 80,
   "metadata": {},
   "outputs": [
    {
     "name": "stdout",
     "output_type": "stream",
     "text": [
      "Done!\n"
     ]
    }
   ],
   "source": [
    "job_data = []\n",
    "for job in job_divs:\n",
    "    title = job.find(\"a\").contents[0]\n",
    "    company = title[:title.find(':')]\n",
    "    title = title[title.find(':') + 2:]\n",
    "    posting_link = job.find(\"a\")['href']\n",
    "    description = job.find('div').contents[0]\n",
    "    try:\n",
    "        location = get_location(posting_link)\n",
    "    except:\n",
    "        location = None\n",
    "    job_data.append({'title' : title, 'company': company, 'link' : posting_link, 'description' : description, 'location' : location})\n",
    "\n",
    "print('Done!')"
   ]
  },
  {
   "cell_type": "code",
   "execution_count": 81,
   "metadata": {},
   "outputs": [],
   "source": [
    "import json\n",
    "with open('data.json', 'w') as outfile:\n",
    "    json.dump(job_data, outfile)"
   ]
  },
  {
   "cell_type": "code",
   "execution_count": 82,
   "metadata": {},
   "outputs": [],
   "source": [
    "with open('data.json') as json_data:\n",
    "    d = json.load(json_data)"
   ]
  },
  {
   "cell_type": "code",
   "execution_count": 83,
   "metadata": {},
   "outputs": [
    {
     "data": {
      "text/plain": [
       "{'company': 'compstak',\n",
       " 'description': '\\r\\n        Seeking talented full time data analysts to help us improve our data pipeline in order to ensure high quality and better scalability. This includes data extraction, preprocessing, augmentation, and verification projects.\\n        ',\n",
       " 'link': 'https://www.kdnuggets.com/jobs/18/07-19-compstak-data-analyst.html',\n",
       " 'location': 'New York, NY',\n",
       " 'title': 'Jr Data Analyst'}"
      ]
     },
     "execution_count": 83,
     "metadata": {},
     "output_type": "execute_result"
    }
   ],
   "source": [
    "d[0]"
   ]
  },
  {
   "cell_type": "code",
   "execution_count": null,
   "metadata": {},
   "outputs": [],
   "source": []
  }
 ],
 "metadata": {
  "kernelspec": {
   "display_name": "Python 3",
   "language": "python",
   "name": "python3"
  },
  "language_info": {
   "codemirror_mode": {
    "name": "ipython",
    "version": 3
   },
   "file_extension": ".py",
   "mimetype": "text/x-python",
   "name": "python",
   "nbconvert_exporter": "python",
   "pygments_lexer": "ipython3",
   "version": "3.6.4"
  }
 },
 "nbformat": 4,
 "nbformat_minor": 2
}
